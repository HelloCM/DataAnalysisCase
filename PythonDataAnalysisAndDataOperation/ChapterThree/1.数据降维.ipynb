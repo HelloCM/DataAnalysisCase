{
 "cells": [
  {
   "cell_type": "code",
   "execution_count": 1,
   "metadata": {},
   "outputs": [],
   "source": [
    "import numpy as np\n",
    "from sklearn.tree import DecisionTreeClassifier\n",
    "from sklearn.decomposition import PCA"
   ]
  },
  {
   "cell_type": "code",
   "execution_count": 8,
   "metadata": {},
   "outputs": [
    {
     "name": "stdout",
     "output_type": "stream",
     "text": [
      "[ 1.88622997  1.31785876 -0.16480621  0.56536882 -1.11934542 -0.53218995\n",
      " -0.6843102   1.24149827  1.00579225  0.45485041] 0.0\n"
     ]
    }
   ],
   "source": [
    "# 读取文本数据文件\n",
    "data = np.loadtxt('data1.txt')\n",
    "# data\n",
    "# 获取输入的x\n",
    "x = data[:, :-1]\n",
    "# 获得目标变量 y\n",
    "y = data[:, -1]\n",
    "print(x[0], y[0])"
   ]
  },
  {
   "cell_type": "code",
   "execution_count": 13,
   "metadata": {},
   "outputs": [
    {
     "name": "stdout",
     "output_type": "stream",
     "text": [
      "[0.03331054 0.01513967 0.02199713 0.119727   0.47930312 0.04776297\n",
      " 0.17111746 0.02585441 0.02012725 0.06566044]\n"
     ]
    }
   ],
   "source": [
    "# 使用sklearn的DecisionTreeClassifier判断变量的重要性\n",
    "model_tree = DecisionTreeClassifier(random_state=0) # 建立分类决策树的模型对象\n",
    "model_tree.fit(x, y) # 将数据集的维度和目标变量输入模型\n",
    "feature_importance = model_tree.feature_importances_ # 获取所有变量的重要性得分\n",
    "print(feature_importance)"
   ]
  },
  {
   "cell_type": "code",
   "execution_count": 16,
   "metadata": {},
   "outputs": [
    {
     "name": "stdout",
     "output_type": "stream",
     "text": [
      "[[ 7.18818316e-03  1.41619205e-02  1.00543847e-02  3.65097575e-01\n",
      "   6.38944537e-01 -1.95750380e-02 -1.73413378e-01 -3.80829974e-02\n",
      "  -2.87413113e-03 -6.52829504e-01]\n",
      " [ 1.01307710e-02 -1.95270201e-04 -2.33689543e-02 -6.12915216e-01\n",
      "   5.08983971e-01 -2.23429533e-02  6.02958940e-01 -1.49061329e-02\n",
      "  -1.81362216e-02 -3.41623971e-03]]\n",
      "[4.22602937 2.21149972]\n",
      "[3.38339364e-01 1.77054475e-01 8.92753857e-02 8.73655166e-02\n",
      " 8.23542686e-02 8.03329836e-02 7.38094896e-02 7.14685179e-02\n",
      " 6.49590300e-33 1.00603846e-33]\n"
     ]
    }
   ],
   "source": [
    "# 使用sklearn的PCA进行维度转换\n",
    "model_pca = PCA()\n",
    "model_pca.fit(x)\n",
    "model_pca.transform(x)  # 对数据集进行转换映射\n",
    "components = model_pca.components_ # 获得转换后的所有主成分\n",
    "components_val = model_pca.explained_variance_ # 获得各主成分的方差\n",
    "components_val_ratio = model_pca.explained_variance_ratio_ # 获得各主成分的方差占比\n",
    "print(components[:2])\n",
    "print(components_val[:2])\n",
    "print(components_val_ratio)"
   ]
  },
  {
   "cell_type": "code",
   "execution_count": null,
   "metadata": {},
   "outputs": [],
   "source": []
  }
 ],
 "metadata": {
  "kernelspec": {
   "display_name": "Python 3",
   "language": "python",
   "name": "python3"
  },
  "language_info": {
   "codemirror_mode": {
    "name": "ipython",
    "version": 3
   },
   "file_extension": ".py",
   "mimetype": "text/x-python",
   "name": "python",
   "nbconvert_exporter": "python",
   "pygments_lexer": "ipython3",
   "version": "3.7.4"
  }
 },
 "nbformat": 4,
 "nbformat_minor": 2
}
