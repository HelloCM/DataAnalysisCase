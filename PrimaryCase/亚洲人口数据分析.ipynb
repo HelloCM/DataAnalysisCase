{
 "cells": [
  {
   "cell_type": "code",
   "execution_count": 2,
   "metadata": {},
   "outputs": [],
   "source": [
    "from pandas import DataFrame,Series\n",
    "import pandas as pd\n",
    "import numpy as np\n",
    "import matplotlib.pyplot as plt\n",
    "%matplotlib inline\n",
    "import seaborn as sns\n",
    "# 解决中文显示问题\n",
    "plt.rc('font', family='Microsoft YaHei')\n"
   ]
  },
  {
   "cell_type": "markdown",
   "metadata": {},
   "source": [
    "> 1.数据预处理"
   ]
  },
  {
   "cell_type": "code",
   "execution_count": 3,
   "metadata": {},
   "outputs": [
    {
     "data": {
      "text/plain": [
       "array('时间,阿富汗,巴林,孟加拉国,不丹,文莱,缅甸,柬埔寨,塞浦路斯,朝鲜,中国香港,印度,印度尼西亚,伊朗,伊拉克,以色列,日本,约旦,科威特,老挝,黎巴嫩,中国澳门,马来西亚,马尔代夫,蒙古,尼泊尔,阿曼,巴基斯坦,巴勒斯坦,菲律宾,卡塔尔,沙特阿拉伯,新加坡,韩国,斯里兰卡,叙利亚,泰国,土耳其,阿联酋,也门,越南,中国台湾,东帝汶,哈萨克斯坦,吉尔吉斯斯坦,塔吉克斯坦,土库曼斯坦,乌兹别克斯坦,马恩岛,约旦河西岸和加沙\\n',\n",
       "      dtype='<U214')"
      ]
     },
     "execution_count": 3,
     "metadata": {},
     "output_type": "execute_result"
    }
   ],
   "source": [
    "# 只读取第一行，获取列索引\n",
    "total_data = np.array(open('../data/AsianPopulationData.csv').readline())\n",
    "total_data"
   ]
  },
  {
   "cell_type": "code",
   "execution_count": 4,
   "metadata": {},
   "outputs": [
    {
     "data": {
      "text/plain": [
       "array(['时间', '阿富汗', '巴林', '孟加拉国', '不丹', '文莱', '缅甸', '柬埔寨', '塞浦路斯', '朝鲜',\n",
       "       '中国香港', '印度', '印度尼西亚', '伊朗', '伊拉克', '以色列', '日本', '约旦', '科威特', '老挝',\n",
       "       '黎巴嫩', '中国澳门', '马来西亚', '马尔代夫', '蒙古', '尼泊尔', '阿曼', '巴基斯坦', '巴勒斯坦',\n",
       "       '菲律宾', '卡塔尔', '沙特阿拉伯', '新加坡', '韩国', '斯里兰卡', '叙利亚', '泰国', '土耳其',\n",
       "       '阿联酋', '也门', '越南', '中国台湾', '东帝汶', '哈萨克斯坦', '吉尔吉斯斯坦', '塔吉克斯坦',\n",
       "       '土库曼斯坦', '乌兹别克斯坦', '马恩岛', '约旦河西岸和加沙'], dtype='<U8')"
      ]
     },
     "execution_count": 4,
     "metadata": {},
     "output_type": "execute_result"
    }
   ],
   "source": [
    "# 获取国家索引\n",
    "country_index = np.array(\n",
    "    open('../data/AsianPopulationData.csv').readline()[:-1].split(',')\n",
    ")\n",
    "country_index"
   ]
  },
  {
   "cell_type": "code",
   "execution_count": 5,
   "metadata": {},
   "outputs": [
    {
     "data": {
      "text/plain": [
       "array(['2015', '2014', '2013', '2012', '2011', '2010', '2009', '2008',\n",
       "       '2007', '2006', '2005', '2004', '2003', '2002', '2001', '2000',\n",
       "       '1999', '1998', '1997', '1996'], dtype='<U10')"
      ]
     },
     "execution_count": 5,
     "metadata": {},
     "output_type": "execute_result"
    }
   ],
   "source": [
    "# 读取人口数据\n",
    "population_data = np.genfromtxt('../data/AsianPopulationData.csv', delimiter=',', skip_header=1, dtype=np.str)\n",
    "# population_data\n",
    "# 时间索引(获取每一行的第一个元素)\n",
    "time_index = population_data[:, 0]\n",
    "time_index"
   ]
  },
  {
   "cell_type": "markdown",
   "metadata": {},
   "source": [
    "> 2.计算2015年各个国家的人口数据"
   ]
  },
  {
   "cell_type": "code",
   "execution_count": 6,
   "metadata": {},
   "outputs": [],
   "source": [
    "year = '2015'\n",
    "# 获取year年所有国家的人口数据\n",
    "population_by_year = population_data[time_index == year]\n",
    "# 提取前十个国家的数据进行显示\n",
    "population_by_year = population_by_year[0][:11]\n",
    "# print(population_by_year)"
   ]
  },
  {
   "cell_type": "markdown",
   "metadata": {},
   "source": [
    "- 数据以文本形式展示"
   ]
  },
  {
   "cell_type": "code",
   "execution_count": 7,
   "metadata": {},
   "outputs": [
    {
     "name": "stdout",
     "output_type": "stream",
     "text": [
      "2015年各个国家人口数据：\n",
      "------------------------------\n",
      "\"阿富汗\"人口为：\t32526562\n",
      "\"巴林\"人口为：\t1377237\n",
      "\"孟加拉国\"人口为：\t160995642\n",
      "\"不丹\"人口为：\t774830\n",
      "\"文莱\"人口为：\t423188\n",
      "\"缅甸\"人口为：\t53897154\n",
      "\"柬埔寨\"人口为：\t15577899\n",
      "\"塞浦路斯\"人口为：\t1165300\n",
      "\"朝鲜\"人口为：\t25155317\n",
      "\"中国香港\"人口为：\t7305700\n"
     ]
    }
   ],
   "source": [
    "print('%s年各个国家人口数据：'% year)\n",
    "print(\"-\"*30)\n",
    "for country_name, country_data in zip(country_index[1:], population_by_year[1:]):\n",
    "    print('\"%s\"人口为：\\t%s' % (country_name, country_data))"
   ]
  },
  {
   "cell_type": "markdown",
   "metadata": {},
   "source": [
    "- 数据以柱状图展示"
   ]
  },
  {
   "cell_type": "code",
   "execution_count": 8,
   "metadata": {},
   "outputs": [
    {
     "data": {
      "text/html": [
       "<div>\n",
       "<style scoped>\n",
       "    .dataframe tbody tr th:only-of-type {\n",
       "        vertical-align: middle;\n",
       "    }\n",
       "\n",
       "    .dataframe tbody tr th {\n",
       "        vertical-align: top;\n",
       "    }\n",
       "\n",
       "    .dataframe thead th {\n",
       "        text-align: right;\n",
       "    }\n",
       "</style>\n",
       "<table border=\"1\" class=\"dataframe\">\n",
       "  <thead>\n",
       "    <tr style=\"text-align: right;\">\n",
       "      <th></th>\n",
       "      <th>country</th>\n",
       "      <th>num</th>\n",
       "    </tr>\n",
       "  </thead>\n",
       "  <tbody>\n",
       "    <tr>\n",
       "      <td>0</td>\n",
       "      <td>阿富汗</td>\n",
       "      <td>32526562</td>\n",
       "    </tr>\n",
       "    <tr>\n",
       "      <td>1</td>\n",
       "      <td>巴林</td>\n",
       "      <td>1377237</td>\n",
       "    </tr>\n",
       "    <tr>\n",
       "      <td>2</td>\n",
       "      <td>孟加拉国</td>\n",
       "      <td>160995642</td>\n",
       "    </tr>\n",
       "    <tr>\n",
       "      <td>3</td>\n",
       "      <td>不丹</td>\n",
       "      <td>774830</td>\n",
       "    </tr>\n",
       "    <tr>\n",
       "      <td>4</td>\n",
       "      <td>文莱</td>\n",
       "      <td>423188</td>\n",
       "    </tr>\n",
       "    <tr>\n",
       "      <td>5</td>\n",
       "      <td>缅甸</td>\n",
       "      <td>53897154</td>\n",
       "    </tr>\n",
       "    <tr>\n",
       "      <td>6</td>\n",
       "      <td>柬埔寨</td>\n",
       "      <td>15577899</td>\n",
       "    </tr>\n",
       "    <tr>\n",
       "      <td>7</td>\n",
       "      <td>塞浦路斯</td>\n",
       "      <td>1165300</td>\n",
       "    </tr>\n",
       "    <tr>\n",
       "      <td>8</td>\n",
       "      <td>朝鲜</td>\n",
       "      <td>25155317</td>\n",
       "    </tr>\n",
       "    <tr>\n",
       "      <td>9</td>\n",
       "      <td>中国香港</td>\n",
       "      <td>7305700</td>\n",
       "    </tr>\n",
       "  </tbody>\n",
       "</table>\n",
       "</div>"
      ],
      "text/plain": [
       "  country        num\n",
       "0     阿富汗   32526562\n",
       "1      巴林    1377237\n",
       "2    孟加拉国  160995642\n",
       "3      不丹     774830\n",
       "4      文莱     423188\n",
       "5      缅甸   53897154\n",
       "6     柬埔寨   15577899\n",
       "7    塞浦路斯    1165300\n",
       "8      朝鲜   25155317\n",
       "9    中国香港    7305700"
      ]
     },
     "execution_count": 8,
     "metadata": {},
     "output_type": "execute_result"
    }
   ],
   "source": [
    "# 格式化数据\n",
    "country_data = DataFrame(zip(country_index[1:], population_by_year[1:]), columns=[\"country\", \"num\"])\n",
    "country_data"
   ]
  },
  {
   "cell_type": "code",
   "execution_count": 9,
   "metadata": {},
   "outputs": [],
   "source": [
    "# sns.barplot(x=country_data[\"country\"].index, y=country_data['num'].values)\n",
    "# country_data[\"num\"].index\n",
    "# country_data[\"num\"].values"
   ]
  },
  {
   "cell_type": "code",
   "execution_count": 15,
   "metadata": {},
   "outputs": [
    {
     "data": {
      "image/png": "[encoded data removed]",
      "text/plain": [
       "<Figure size 1296x864 with 1 Axes>"
      ]
     },
     "metadata": {
      "needs_background": "light"
     },
     "output_type": "display_data"
    }
   ],
   "source": [
    "# bar宽度\n",
    "bar_width = 0.3\n",
    "# 设置画布大小\n",
    "plt.figure(figsize=(18, 12))\n",
    "# 每一个bar占0.3宽度\n",
    "plt.bar(country_data[\"country\"].values, country_data['num'].values, width=bar_width, alpha=0.7, label='国家', color='b')\n",
    "# 显示图例\n",
    "plt.legend(loc=1)\n",
    "\n",
    "# 刻度字体大小\n",
    "plt.tick_params(labelsize=16)\n",
    "# 设置x轴刻度标签\n",
    "# plt.xticks([ ix for ix in country_data[\"country\"].values], rotation=16)\n",
    "# 设置标题\n",
    "plt.title('2015年各个国家的人口数据')\n",
    "plt.xlabel('国家')\n",
    "plt.ylabel('人口（个）')\n",
    "\n",
    "# 显示网格\n",
    "plt.grid(True, linestyle = \"-.\", linewidth = \"3\") \n",
    "\n",
    "plt.show()"
   ]
  },
  {
   "cell_type": "code",
   "execution_count": null,
   "metadata": {},
   "outputs": [],
   "source": []
  },
  {
   "cell_type": "code",
   "execution_count": null,
   "metadata": {},
   "outputs": [],
   "source": []
  }
 ],
 "metadata": {
  "kernelspec": {
   "display_name": "Python 3",
   "language": "python",
   "name": "python3"
  },
  "language_info": {
   "codemirror_mode": {
    "name": "ipython",
    "version": 3
   },
   "file_extension": ".py",
   "mimetype": "text/x-python",
   "name": "python",
   "nbconvert_exporter": "python",
   "pygments_lexer": "ipython3",
   "version": "3.7.4"
  }
 },
 "nbformat": 4,
 "nbformat_minor": 2
}
